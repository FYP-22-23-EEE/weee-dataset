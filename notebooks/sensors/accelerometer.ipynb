{
 "cells": [
  {
   "attachments": {},
   "cell_type": "markdown",
   "metadata": {},
   "source": [
    "### Imports"
   ]
  },
  {
   "cell_type": "code",
   "execution_count": 35,
   "metadata": {},
   "outputs": [],
   "source": [
    "import os\n",
    "import json\n",
    "from envyaml import EnvYAML\n",
    "import pandas as pd\n",
    "import datetime"
   ]
  },
  {
   "attachments": {},
   "cell_type": "markdown",
   "metadata": {},
   "source": [
    "### Accessing datasets"
   ]
  },
  {
   "cell_type": "code",
   "execution_count": 36,
   "metadata": {},
   "outputs": [],
   "source": [
    "def read_csv(path):\n",
    "    return pd.read_csv(path)\n",
    "\n",
    "def to_csv(df, path):\n",
    "    df.to_csv(path, index=False)"
   ]
  },
  {
   "attachments": {},
   "cell_type": "markdown",
   "metadata": {},
   "source": [
    "E4 dataset directories"
   ]
  },
  {
   "cell_type": "code",
   "execution_count": 37,
   "metadata": {},
   "outputs": [],
   "source": [
    "VAR_ENV = EnvYAML(\"../../env.yaml\")\n",
    "path_list = [os.path.join(\"../..\", VAR_ENV[\"dataset.path\"], VAR_ENV[\"dataset.version\"], f\"P{i:02d}\", \"E4\") for i in range(1, VAR_ENV[\"dataset.participants\"] + 1)]"
   ]
  },
  {
   "attachments": {},
   "cell_type": "markdown",
   "metadata": {},
   "source": [
    "### Dataframes"
   ]
  },
  {
   "cell_type": "code",
   "execution_count": 38,
   "metadata": {},
   "outputs": [],
   "source": [
    "for path in path_list:\n",
    "    # dataset manipulation\n",
    "    df_temp = pd.read_csv(os.path.join(path, 'ACC.csv'))\n",
    "    initial_time = float(df_temp.columns[0])\n",
    "    frequency = float(df_temp.iloc[0, 0])\n",
    "    df_temp = df_temp.drop([0])\n",
    "    df_temp.columns = [\"acc_x\", \"acc_y\", \"acc_z\"]\n",
    "\n",
    "    # adding timestamps\n",
    "    timestamps = [datetime.datetime.fromtimestamp(initial_time+(i/frequency)) for i in range(len(df_temp))]\n",
    "    df_temp.insert(0, \"timestamp\", timestamps, True)\n",
    "    df_temp[\"acc_x\"] = df_temp[\"acc_x\"]/64\n",
    "    df_temp[\"acc_y\"] = df_temp[\"acc_y\"]/64\n",
    "    df_temp[\"acc_z\"] = df_temp[\"acc_z\"]/64\n",
    "    df_temp[\"temperature\"] = 0\n",
    "\n",
    "    # saving\n",
    "    to_csv(df_temp, os.path.join(path, f\"modified_{'ACC.csv'}\"))\n"
   ]
  },
  {
   "cell_type": "code",
   "execution_count": 42,
   "metadata": {},
   "outputs": [
    {
     "name": "stdout",
     "output_type": "stream",
     "text": [
      "/home/darshana/.local/share/virtualenvs/weee-dataset-l4oCkYpH/lib/python3.10/site-packages/accelerometer/accProcess.py:243: UserWarning: Skipping lowpass filter (--useFilter False) as sampleRate too low (<= 40)\n",
      "  warnings.warn(\"Skipping lowpass filter (--useFilter False) as sampleRate too low (<= 40)\")\n",
      "Processing file '/home/darshana/Projects/FYP/weee-dataset/data/v1/P01/E4/modified_ACC.csv' with these arguments:\n",
      "\n",
      "activityClassification    : True\n",
      "activityModel             : walmsley\n",
      "calOffset                 : [0.0, 0.0, 0.0]\n",
      "calSlope                  : [1.0, 1.0, 1.0]\n",
      "calTemp                   : [0.0, 0.0, 0.0]\n",
      "calibrationSphereCriteria : 0.3\n",
      "csvSampleRate             : 32.0\n",
      "csvStartRow               : 1\n",
      "csvStartTime              : None\n",
      "csvTimeFormat             : yyyy-MM-dd HH:mm:ss.SSSSSS\n",
      "csvTimeXYZTempColsIndex   : 0,1,2,3,4\n",
      "deleteIntermediateFiles   : True\n",
      "endTime                   : None\n",
      "epochFile                 : /home/darshana/Projects/FYP/weee-dataset/data/v1/P01/E4/modified_ACC-epoch.csv.gz\n",
      "epochPeriod               : 30\n",
      "extractFeatures           : True\n",
      "fourierFrequency          : False\n",
      "fourierWithAcc            : False\n",
      "inputFile                 : /home/darshana/Projects/FYP/weee-dataset/data/v1/P01/E4/modified_ACC.csv\n",
      "intensityDistribution     : False\n",
      "m10l5                     : False\n",
      "meanTemp                  : None\n",
      "mgCutPointMVPA            : 100\n",
      "mgCutPointVPA             : 425\n",
      "nonWearFile               : /home/darshana/Projects/FYP/weee-dataset/data/v1/P01/E4/modified_ACC-nonWearBouts.csv.gz\n",
      "npyFile                   : /home/darshana/Projects/FYP/weee-dataset/data/v1/P01/E4/modified_ACC.npy\n",
      "npyOutput                 : False\n",
      "outputFolder              : /home/darshana/Projects/FYP/weee-dataset/data/v1/P01/E4\n",
      "processInputFile          : True\n",
      "psd                       : False\n",
      "rawDataParser             : AccelerometerParser\n",
      "rawFile                   : /home/darshana/Projects/FYP/weee-dataset/data/v1/P01/E4/modified_ACC.csv.gz\n",
      "rawOutput                 : False\n",
      "resampleMethod            : linear\n",
      "sampleRate                : 32\n",
      "skipCalibration           : False\n",
      "startTime                 : None\n",
      "stationaryFile            : /home/darshana/Projects/FYP/weee-dataset/data/v1/P01/E4/modified_ACC-stationaryPoints.csv.gz\n",
      "stationaryStd             : 13\n",
      "summaryFile               : /home/darshana/Projects/FYP/weee-dataset/data/v1/P01/E4/modified_ACC-summary.json\n",
      "timeSeriesDateColumn      : False\n",
      "timeShift                 : 0\n",
      "timeZone                  : Europe/London\n",
      "tsFile                    : /home/darshana/Projects/FYP/weee-dataset/data/v1/P01/E4/modified_ACC-timeSeries.csv.gz\n",
      "useFilter                 : False\n",
      "verbose                   : False\n",
      "\n",
      "2022-12-25 16:45:09\t=== Calibrating ===\n",
      "Error occurred during initialization of VM\n",
      "java.lang.Error: Properties init: Could not determine current working directory.\n",
      "\tat java.lang.System.initProperties(java.base/Native Method)\n",
      "\tat java.lang.System.initPhase1(java.base/System.java:1948)\n",
      "\n",
      "['java', '-classpath', '/home/darshana/.local/share/virtualenvs/weee-dataset-l4oCkYpH/lib/python3.10/site-packages/accelerometer/java/:/home/darshana/.local/share/virtualenvs/weee-dataset-l4oCkYpH/lib/python3.10/site-packages/accelerometer/java/JTransforms-3.1-with-dependencies.jar', '-XX:ParallelGCThreads=1', 'AccelerometerParser', '/home/darshana/Projects/FYP/weee-dataset/data/v1/P01/E4/modified_ACC.csv', 'timeZone:Europe/London', 'timeShift:0', 'outputFile:/home/darshana/Projects/FYP/weee-dataset/data/v1/P01/E4/modified_ACC-stationaryPoints.csv.gz', 'verbose:False', 'filter:False', 'getStationaryBouts:true', 'epochPeriod:10', 'stationaryStd:0.013', 'sampleRate:32', 'csvSampleRate:32.0', 'csvTimeFormat:yyyy-MM-dd HH:mm:ss.SSSSSS', 'csvStartRow:1', 'csvTimeXYZTempColsIndex:0,1,2,3,4']\n",
      "Error: java calibration failed, exit  1\n"
     ]
    }
   ],
   "source": [
    "!accProcess \"/home/darshana/Projects/FYP/weee-dataset/data/v1/P01/E4/modified_ACC.csv\" --csvTimeFormat 'yyyy-MM-dd HH:mm:ss.SSSSSS' --sampleRate=32 --csvTimeXYZTempColsIndex 0,1,2,3,4 --csvSampleRate=32"
   ]
  }
 ],
 "metadata": {
  "kernelspec": {
   "display_name": "weee-dataset-l4oCkYpH",
   "language": "python",
   "name": "python3"
  },
  "language_info": {
   "codemirror_mode": {
    "name": "ipython",
    "version": 3
   },
   "file_extension": ".py",
   "mimetype": "text/x-python",
   "name": "python",
   "nbconvert_exporter": "python",
   "pygments_lexer": "ipython3",
   "version": "3.10.6"
  },
  "orig_nbformat": 4,
  "vscode": {
   "interpreter": {
    "hash": "c1367f830a7667d8dfdf66ab5a664543b559253404065f1d8c1c9d2a5c327239"
   }
  }
 },
 "nbformat": 4,
 "nbformat_minor": 2
}
