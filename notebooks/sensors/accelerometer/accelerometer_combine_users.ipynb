{
 "cells": [
  {
   "cell_type": "code",
   "execution_count": 1,
   "metadata": {},
   "outputs": [],
   "source": [
    "import os\n",
    "import json\n",
    "from envyaml import EnvYAML\n",
    "import pandas as pd\n",
    "import numpy as np\n",
    "import glob"
   ]
  },
  {
   "cell_type": "code",
   "execution_count": 2,
   "metadata": {},
   "outputs": [],
   "source": [
    "def read_csv(path):\n",
    "    return pd.read_csv(path)\n",
    "\n",
    "\n",
    "def to_csv(df, path):\n",
    "    df.to_csv(path, index=False)"
   ]
  },
  {
   "cell_type": "code",
   "execution_count": 3,
   "metadata": {},
   "outputs": [],
   "source": [
    "VAR_ENV = EnvYAML(\"../../../env.yaml\")\n",
    "time_windows = [4,6,8,10,12]\n",
    "for time_window in time_windows:\n",
    "    path_list = [os.path.join(\"../../..\", VAR_ENV[\"dataset.path\"], VAR_ENV[\"dataset.version\"],\n",
    "                            f\"P{i:02d}\", \"E4\", f\"modified_with_activity_ACC_{time_window}.csv\") for i in range(1, VAR_ENV[\"dataset.participants\"] + 1)]\n",
    "    df = pd.concat(map(pd.read_csv, path_list), ignore_index=True)\n",
    "    to_csv(df, os.path.join(\"../../..\", VAR_ENV[\"dataset.path\"], \"v2\", \"E4\", f\"acc_{time_window}.csv\"))"
   ]
  },
  {
   "cell_type": "code",
   "execution_count": 4,
   "metadata": {},
   "outputs": [
    {
     "data": {
      "text/plain": [
       "False"
      ]
     },
     "execution_count": 4,
     "metadata": {},
     "output_type": "execute_result"
    }
   ],
   "source": [
    "df.isnull().values.any()"
   ]
  }
 ],
 "metadata": {
  "kernelspec": {
   "display_name": "weee-dataset-l4oCkYpH",
   "language": "python",
   "name": "python3"
  },
  "language_info": {
   "codemirror_mode": {
    "name": "ipython",
    "version": 3
   },
   "file_extension": ".py",
   "mimetype": "text/x-python",
   "name": "python",
   "nbconvert_exporter": "python",
   "pygments_lexer": "ipython3",
   "version": "3.10.6 (main, Nov 14 2022, 16:10:14) [GCC 11.3.0]"
  },
  "orig_nbformat": 4,
  "vscode": {
   "interpreter": {
    "hash": "c1367f830a7667d8dfdf66ab5a664543b559253404065f1d8c1c9d2a5c327239"
   }
  }
 },
 "nbformat": 4,
 "nbformat_minor": 2
}
