{
 "cells": [
  {
   "attachments": {},
   "cell_type": "markdown",
   "metadata": {},
   "source": [
    "### Imports\n"
   ]
  },
  {
   "cell_type": "code",
   "execution_count": 1,
   "metadata": {},
   "outputs": [],
   "source": [
    "import os\n",
    "import json\n",
    "from envyaml import EnvYAML\n",
    "import pandas as pd\n",
    "import tsfel\n",
    "import datetime\n",
    "import numpy as np\n"
   ]
  },
  {
   "attachments": {},
   "cell_type": "markdown",
   "metadata": {},
   "source": [
    "### Accessing datasets\n"
   ]
  },
  {
   "cell_type": "code",
   "execution_count": 2,
   "metadata": {},
   "outputs": [],
   "source": [
    "def read_csv(path):\n",
    "    return pd.read_csv(path)\n",
    "\n",
    "\n",
    "def to_csv(df, path):\n",
    "    df.to_csv(path, index=False)\n"
   ]
  },
  {
   "attachments": {},
   "cell_type": "markdown",
   "metadata": {},
   "source": [
    "E4 dataset directories\n"
   ]
  },
  {
   "cell_type": "code",
   "execution_count": 3,
   "metadata": {},
   "outputs": [],
   "source": [
    "VAR_ENV = EnvYAML(\"../../../../env.yaml\")\n",
    "path_list = [os.path.join(\"../../../..\", VAR_ENV[\"dataset.path\"], VAR_ENV[\"dataset.version\"],\n",
    "                          f\"P{i:02d}\", \"EARBUDS\") for i in range(1, VAR_ENV[\"dataset.participants\"] + 1)]\n"
   ]
  },
  {
   "attachments": {},
   "cell_type": "markdown",
   "metadata": {},
   "source": [
    "### Dataframes\n"
   ]
  },
  {
   "cell_type": "code",
   "execution_count": null,
   "metadata": {},
   "outputs": [],
   "source": [
    "study_information = pd.read_csv(os.path.join(\"../../..\", VAR_ENV[\"dataset.path\"], VAR_ENV[\"dataset.version\"],\"Study_Information.csv\"))\n",
    "moving_window_size = 32 * 60\n",
    "for path in path_list:\n",
    "    # dataset manipulation\n",
    "    df_temp = pd.read_csv(os.path.join(path, 'ACC.csv'))\n",
    "    initial_time = float(df_temp.columns[0])\n",
    "    frequency = float(df_temp.iloc[0, 0])\n",
    "    df_temp = df_temp.drop([0])\n",
    "    df_temp.columns = [\"acc_x\", \"acc_y\", \"acc_z\"]\n",
    "\n",
    "    # adding timestamps\n",
    "    timestamps = [datetime.datetime.fromtimestamp(initial_time+(i/frequency), datetime.timezone(datetime.timedelta(hours=0))) for i in range(len(df_temp))]\n",
    "    df_temp.insert(0, \"timestamp\", timestamps, True)\n",
    "\n",
    "    # remove rows until sessions starting according to study information\n",
    "    breaking_index = 0\n",
    "    for i in range (1,len(df_temp)):\n",
    "        if (datetime.datetime.fromisoformat(str(df_temp[\"timestamp\"][i]).split('.')[0].split('+')[0]) < datetime.datetime.fromisoformat(study_information[\"Start_Sit\"][path_list.index(path)])):\n",
    "            breaking_index += 1\n",
    "        else:\n",
    "            break\n",
    "    df_temp.drop(df_temp.index[:breaking_index], inplace=True)\n",
    "\n",
    "    # transform (1/64)g to g\n",
    "    df_temp[\"acc_x\"] = df_temp[\"acc_x\"]/64\n",
    "    df_temp[\"acc_y\"] = df_temp[\"acc_y\"]/64\n",
    "    df_temp[\"acc_z\"] = df_temp[\"acc_z\"]/64\n",
    "\n",
    "    # initialize new columns for central moving averages\n",
    "    df_temp['acc_x_avg'] = 0\n",
    "    df_temp['acc_y_avg'] = 0\n",
    "    df_temp['acc_z_avg'] = 0\n",
    "\n",
    "    # calculate moving windows\n",
    "    for i in range(0, len(df_temp)-moving_window_size):\n",
    "        df_temp.loc[i+moving_window_size//2, 'acc_x_avg'] = df_temp.iloc[i:i+moving_window_size]['acc_x'].sum()/moving_window_size\n",
    "        df_temp.loc[i+moving_window_size//2, 'acc_y_avg'] = df_temp.iloc[i:i+moving_window_size]['acc_y'].sum()/moving_window_size\n",
    "        df_temp.loc[i+moving_window_size//2, 'acc_z_avg'] = df_temp.iloc[i:i+moving_window_size]['acc_z'].sum()/moving_window_size\n",
    "\n",
    "    # drop previous columns\n",
    "    df_temp.drop('acc_x', inplace=True, axis=1)\n",
    "    df_temp.drop('acc_y', inplace=True, axis=1)\n",
    "    df_temp.drop('acc_z', inplace=True, axis=1)\n",
    "\n",
    "    # saving\n",
    "    to_csv(df_temp, os.path.join(\"../../..\",\n",
    "           VAR_ENV[\"dataset.path\"], VAR_ENV[\"dataset.version\"], f\"P{path_list.index(path)+1:02d}\", \"E4\", \"modified_ACC.csv\"))\n"
   ]
  },
  {
   "attachments": {},
   "cell_type": "markdown",
   "metadata": {},
   "source": [
    "### Remove unnecessary rows"
   ]
  },
  {
   "cell_type": "code",
   "execution_count": null,
   "metadata": {},
   "outputs": [
    {
     "name": "stdout",
     "output_type": "stream",
     "text": [
      "1\n"
     ]
    },
    {
     "ename": "KeyError",
     "evalue": "1",
     "output_type": "error",
     "traceback": [
      "\u001b[0;31m---------------------------------------------------------------------------\u001b[0m\n",
      "\u001b[0;31mValueError\u001b[0m                                Traceback (most recent call last)\n",
      "File \u001b[0;32m~/.local/share/virtualenvs/weee-dataset-l4oCkYpH/lib/python3.10/site-packages/pandas/core/indexes/range.py:391\u001b[0m, in \u001b[0;36mRangeIndex.get_loc\u001b[0;34m(self, key, method, tolerance)\u001b[0m\n",
      "\u001b[1;32m    390\u001b[0m \u001b[39mtry\u001b[39;00m:\n",
      "\u001b[0;32m--> 391\u001b[0m     \u001b[39mreturn\u001b[39;00m \u001b[39mself\u001b[39;49m\u001b[39m.\u001b[39;49m_range\u001b[39m.\u001b[39;49mindex(new_key)\n",
      "\u001b[1;32m    392\u001b[0m \u001b[39mexcept\u001b[39;00m \u001b[39mValueError\u001b[39;00m \u001b[39mas\u001b[39;00m err:\n",
      "\n",
      "\u001b[0;31mValueError\u001b[0m: 1 is not in range\n",
      "\n",
      "The above exception was the direct cause of the following exception:\n",
      "\n",
      "\u001b[0;31mKeyError\u001b[0m                                  Traceback (most recent call last)\n",
      "Cell \u001b[0;32mIn[29], line 9\u001b[0m\n",
      "\u001b[1;32m      7\u001b[0m \u001b[39mfor\u001b[39;00m i \u001b[39min\u001b[39;00m \u001b[39mrange\u001b[39m (\u001b[39m1\u001b[39m,\u001b[39mlen\u001b[39m(df_temp)):\n",
      "\u001b[1;32m      8\u001b[0m     \u001b[39mprint\u001b[39m(i)\n",
      "\u001b[0;32m----> 9\u001b[0m     \u001b[39mif\u001b[39;00m (datetime\u001b[39m.\u001b[39mdatetime\u001b[39m.\u001b[39mfromisoformat(\u001b[39mstr\u001b[39m(df_temp[\u001b[39m\"\u001b[39;49m\u001b[39mtimestamp\u001b[39;49m\u001b[39m\"\u001b[39;49m][i])\u001b[39m.\u001b[39msplit(\u001b[39m'\u001b[39m\u001b[39m.\u001b[39m\u001b[39m'\u001b[39m)[\u001b[39m0\u001b[39m]\u001b[39m.\u001b[39msplit(\u001b[39m'\u001b[39m\u001b[39m+\u001b[39m\u001b[39m'\u001b[39m)[\u001b[39m0\u001b[39m]) \u001b[39m>\u001b[39m datetime\u001b[39m.\u001b[39mdatetime\u001b[39m.\u001b[39mfromisoformat(study_information[\u001b[39m\"\u001b[39m\u001b[39mStart_Sit\u001b[39m\u001b[39m\"\u001b[39m][path_list\u001b[39m.\u001b[39mindex(path)])):\n",
      "\u001b[1;32m     10\u001b[0m         \u001b[39mbreak\u001b[39;00m\n",
      "\u001b[1;32m     11\u001b[0m     \u001b[39melse\u001b[39;00m:\n",
      "\n",
      "File \u001b[0;32m~/.local/share/virtualenvs/weee-dataset-l4oCkYpH/lib/python3.10/site-packages/pandas/core/series.py:981\u001b[0m, in \u001b[0;36mSeries.__getitem__\u001b[0;34m(self, key)\u001b[0m\n",
      "\u001b[1;32m    978\u001b[0m     \u001b[39mreturn\u001b[39;00m \u001b[39mself\u001b[39m\u001b[39m.\u001b[39m_values[key]\n",
      "\u001b[1;32m    980\u001b[0m \u001b[39melif\u001b[39;00m key_is_scalar:\n",
      "\u001b[0;32m--> 981\u001b[0m     \u001b[39mreturn\u001b[39;00m \u001b[39mself\u001b[39;49m\u001b[39m.\u001b[39;49m_get_value(key)\n",
      "\u001b[1;32m    983\u001b[0m \u001b[39mif\u001b[39;00m is_hashable(key):\n",
      "\u001b[1;32m    984\u001b[0m     \u001b[39m# Otherwise index.get_value will raise InvalidIndexError\u001b[39;00m\n",
      "\u001b[1;32m    985\u001b[0m     \u001b[39mtry\u001b[39;00m:\n",
      "\u001b[1;32m    986\u001b[0m         \u001b[39m# For labels that don't resolve as scalars like tuples and frozensets\u001b[39;00m\n",
      "\n",
      "File \u001b[0;32m~/.local/share/virtualenvs/weee-dataset-l4oCkYpH/lib/python3.10/site-packages/pandas/core/series.py:1089\u001b[0m, in \u001b[0;36mSeries._get_value\u001b[0;34m(self, label, takeable)\u001b[0m\n",
      "\u001b[1;32m   1086\u001b[0m     \u001b[39mreturn\u001b[39;00m \u001b[39mself\u001b[39m\u001b[39m.\u001b[39m_values[label]\n",
      "\u001b[1;32m   1088\u001b[0m \u001b[39m# Similar to Index.get_value, but we do not fall back to positional\u001b[39;00m\n",
      "\u001b[0;32m-> 1089\u001b[0m loc \u001b[39m=\u001b[39m \u001b[39mself\u001b[39;49m\u001b[39m.\u001b[39;49mindex\u001b[39m.\u001b[39;49mget_loc(label)\n",
      "\u001b[1;32m   1090\u001b[0m \u001b[39mreturn\u001b[39;00m \u001b[39mself\u001b[39m\u001b[39m.\u001b[39mindex\u001b[39m.\u001b[39m_get_values_for_loc(\u001b[39mself\u001b[39m, loc, label)\n",
      "\n",
      "File \u001b[0;32m~/.local/share/virtualenvs/weee-dataset-l4oCkYpH/lib/python3.10/site-packages/pandas/core/indexes/range.py:393\u001b[0m, in \u001b[0;36mRangeIndex.get_loc\u001b[0;34m(self, key, method, tolerance)\u001b[0m\n",
      "\u001b[1;32m    391\u001b[0m         \u001b[39mreturn\u001b[39;00m \u001b[39mself\u001b[39m\u001b[39m.\u001b[39m_range\u001b[39m.\u001b[39mindex(new_key)\n",
      "\u001b[1;32m    392\u001b[0m     \u001b[39mexcept\u001b[39;00m \u001b[39mValueError\u001b[39;00m \u001b[39mas\u001b[39;00m err:\n",
      "\u001b[0;32m--> 393\u001b[0m         \u001b[39mraise\u001b[39;00m \u001b[39mKeyError\u001b[39;00m(key) \u001b[39mfrom\u001b[39;00m \u001b[39merr\u001b[39;00m\n",
      "\u001b[1;32m    394\u001b[0m \u001b[39mself\u001b[39m\u001b[39m.\u001b[39m_check_indexing_error(key)\n",
      "\u001b[1;32m    395\u001b[0m \u001b[39mraise\u001b[39;00m \u001b[39mKeyError\u001b[39;00m(key)\n",
      "\n",
      "\u001b[0;31mKeyError\u001b[0m: 1"
     ]
    }
   ],
   "source": [
    "for path in path_list:\n",
    "    df_temp = pd.read_csv(os.path.join(path, 'modified_ACC.csv'))\n",
    "    df_temp.drop(df_temp.index[:moving_window_size//2-1], inplace=True)\n",
    "    df_temp.drop(df_temp.index[len(df_temp)-moving_window_size//2-1:], inplace=True)\n",
    "\n",
    "    to_csv(df_temp, os.path.join(\"../../..\",\n",
    "           VAR_ENV[\"dataset.path\"], VAR_ENV[\"dataset.version\"], f\"P{path_list.index(path)+1:02d}\", \"E4\", \"modified_0_rows_removed_ACC.csv\"))"
   ]
  }
 ],
 "metadata": {
  "kernelspec": {
   "display_name": "weee-dataset-l4oCkYpH",
   "language": "python",
   "name": "python3"
  },
  "language_info": {
   "codemirror_mode": {
    "name": "ipython",
    "version": 3
   },
   "file_extension": ".py",
   "mimetype": "text/x-python",
   "name": "python",
   "nbconvert_exporter": "python",
   "pygments_lexer": "ipython3",
   "version": "3.10.6"
  },
  "orig_nbformat": 4,
  "vscode": {
   "interpreter": {
    "hash": "c1367f830a7667d8dfdf66ab5a664543b559253404065f1d8c1c9d2a5c327239"
   }
  }
 },
 "nbformat": 4,
 "nbformat_minor": 2
}
