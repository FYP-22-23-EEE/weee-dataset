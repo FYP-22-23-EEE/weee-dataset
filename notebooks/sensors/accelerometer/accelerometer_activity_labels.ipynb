{
 "cells": [
  {
   "attachments": {},
   "cell_type": "markdown",
   "metadata": {},
   "source": [
    "### Imports\n"
   ]
  },
  {
   "cell_type": "code",
   "execution_count": 1,
   "metadata": {},
   "outputs": [],
   "source": [
    "import os\n",
    "import json\n",
    "import datetime\n",
    "from envyaml import EnvYAML\n",
    "import pandas as pd\n",
    "from tsfresh import extract_features\n",
    "import numpy as np\n"
   ]
  },
  {
   "attachments": {},
   "cell_type": "markdown",
   "metadata": {},
   "source": [
    "### Accessing datasets\n"
   ]
  },
  {
   "cell_type": "code",
   "execution_count": 2,
   "metadata": {},
   "outputs": [],
   "source": [
    "def read_csv(path):\n",
    "    return pd.read_csv(path)\n",
    "\n",
    "\n",
    "def to_csv(df, path):\n",
    "    df.to_csv(path, index=False)\n"
   ]
  },
  {
   "attachments": {},
   "cell_type": "markdown",
   "metadata": {},
   "source": [
    "E4 dataset directories\n"
   ]
  },
  {
   "cell_type": "code",
   "execution_count": 3,
   "metadata": {},
   "outputs": [],
   "source": [
    "VAR_ENV = EnvYAML(\"../../../env.yaml\")\n",
    "path_list = [os.path.join(\"../../..\", VAR_ENV[\"dataset.path\"], VAR_ENV[\"dataset.version\"],\n",
    "                          f\"P{i:02d}\", \"E4\") for i in range(1, VAR_ENV[\"dataset.participants\"] + 1)]"
   ]
  },
  {
   "attachments": {},
   "cell_type": "markdown",
   "metadata": {},
   "source": [
    "### Dataframes\n"
   ]
  },
  {
   "attachments": {},
   "cell_type": "markdown",
   "metadata": {},
   "source": [
    "Categorical encoding for activities\n",
    "\n",
    "Sit - 0</br>\n",
    "Stand - 1</br>\n",
    "Cycle(Speed 1) - 2</br>\n",
    "Cycle(Speed 2) - 3</br>\n",
    "Run(Speed 1) - 4</br>\n",
    "Run(Speed 2) -5</br>"
   ]
  },
  {
   "cell_type": "code",
   "execution_count": 16,
   "metadata": {},
   "outputs": [],
   "source": [
    "study_information = pd.read_csv(os.path.join(\"../../..\", VAR_ENV[\"dataset.path\"], VAR_ENV[\"dataset.version\"],\"Study_Information.csv\"))\n",
    "activities = [\"Start_Sit\", \"Start_Stand\", \"Start_Cycle1\", \"Start_Cycle2\", \"Start_Run1\", \"Start_Run2\"]\n",
    "for path in path_list:\n",
    "    df = pd.read_csv(os.path.join(path, \"modified_with_tsfresh_ACC.csv\"))\n",
    "    # df['activity'] = np.nan\n",
    "    activity = []\n",
    "    # add user id\n",
    "    userIds = [path_list.index(path)+1 for i in range(len(df))]\n",
    "    df.insert(0, \"user_id\", userIds, allow_duplicates=True)\n",
    "\n",
    "    current_activity_index = 0\n",
    "    for i in range(len(df)):\n",
    "        if (current_activity_index == 5):\n",
    "            # df.loc[i,'activity'] = 5\n",
    "            activity.append(5)\n",
    "            continue\n",
    "        row_end_time = datetime.datetime.fromisoformat(df.end_timestamp[i].split('.')[0])\n",
    "        next_activity_start_time = datetime.datetime.fromisoformat(study_information[activities[current_activity_index+1]][path_list.index(path)])\n",
    "        if (row_end_time < next_activity_start_time):\n",
    "            # df.loc[i,'activity'] = current_activity_index\n",
    "            activity.append(current_activity_index)\n",
    "        else:\n",
    "            current_activity_index += 1\n",
    "            # df.loc[i,'activity'] = current_activity_index\n",
    "            activity.append(current_activity_index)\n",
    "    \n",
    "    df.insert(1, \"activity\", activity, allow_duplicates=True)\n",
    "    \n",
    "    # saving\n",
    "    to_csv(df, os.path.join(\"../../..\",\n",
    "           VAR_ENV[\"dataset.path\"], VAR_ENV[\"dataset.version\"], f\"P{path_list.index(path)+1:02d}\", \"E4\", \"modified_with_activity_ACC.csv\"))\n"
   ]
  }
 ],
 "metadata": {
  "kernelspec": {
   "display_name": "weee-dataset-l4oCkYpH",
   "language": "python",
   "name": "python3"
  },
  "language_info": {
   "codemirror_mode": {
    "name": "ipython",
    "version": 3
   },
   "file_extension": ".py",
   "mimetype": "text/x-python",
   "name": "python",
   "nbconvert_exporter": "python",
   "pygments_lexer": "ipython3",
   "version": "3.10.6"
  },
  "orig_nbformat": 4,
  "vscode": {
   "interpreter": {
    "hash": "c1367f830a7667d8dfdf66ab5a664543b559253404065f1d8c1c9d2a5c327239"
   }
  }
 },
 "nbformat": 4,
 "nbformat_minor": 2
}
