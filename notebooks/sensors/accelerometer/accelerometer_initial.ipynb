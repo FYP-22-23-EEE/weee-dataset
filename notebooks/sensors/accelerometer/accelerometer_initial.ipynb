{
 "cells": [
  {
   "attachments": {},
   "cell_type": "markdown",
   "metadata": {},
   "source": [
    "### Imports\n"
   ]
  },
  {
   "cell_type": "code",
   "execution_count": 13,
   "metadata": {},
   "outputs": [],
   "source": [
    "import os\n",
    "import json\n",
    "from envyaml import EnvYAML\n",
    "import pandas as pd\n",
    "import tsfel\n",
    "import datetime\n",
    "import numpy as np\n"
   ]
  },
  {
   "attachments": {},
   "cell_type": "markdown",
   "metadata": {},
   "source": [
    "### Accessing datasets\n"
   ]
  },
  {
   "cell_type": "code",
   "execution_count": 14,
   "metadata": {},
   "outputs": [],
   "source": [
    "def read_csv(path):\n",
    "    return pd.read_csv(path)\n",
    "\n",
    "\n",
    "def to_csv(df, path):\n",
    "    df.to_csv(path, index=False)\n"
   ]
  },
  {
   "attachments": {},
   "cell_type": "markdown",
   "metadata": {},
   "source": [
    "E4 dataset directories\n"
   ]
  },
  {
   "cell_type": "code",
   "execution_count": 15,
   "metadata": {},
   "outputs": [],
   "source": [
    "VAR_ENV = EnvYAML(\"../../../env.yaml\")\n",
    "path_list = [os.path.join(\"../../..\", VAR_ENV[\"dataset.path\"], VAR_ENV[\"dataset.version\"],\n",
    "                          f\"P{i:02d}\", \"E4\") for i in range(1, VAR_ENV[\"dataset.participants\"] + 1)]\n"
   ]
  },
  {
   "attachments": {},
   "cell_type": "markdown",
   "metadata": {},
   "source": [
    "### Remove unnecessary data points according to study information "
   ]
  },
  {
   "cell_type": "code",
   "execution_count": 37,
   "metadata": {},
   "outputs": [],
   "source": [
    "study_information = pd.read_csv(os.path.join(\"../../..\", VAR_ENV[\"dataset.path\"], VAR_ENV[\"dataset.version\"],\"Study_Information.csv\"))\n",
    "moving_window_size = 32 * 60\n",
    "for path in path_list:\n",
    "    # dataset manipulation\n",
    "    df_temp = pd.read_csv(os.path.join(path, 'ACC.csv'))\n",
    "    initial_time = float(df_temp.columns[0])\n",
    "    frequency = float(df_temp.iloc[0, 0])\n",
    "    df_temp = df_temp.drop([0])\n",
    "    df_temp.columns = [\"acc_x\", \"acc_y\", \"acc_z\"]\n",
    "\n",
    "    # adding timestamps\n",
    "    timestamps = [datetime.datetime.fromtimestamp(initial_time+(i/frequency), datetime.timezone(datetime.timedelta(hours=0))) for i in range(len(df_temp))]\n",
    "    df_temp.insert(0, \"timestamp\", timestamps, True)\n",
    "\n",
    "    # remove rows until sessions starting according to study information\n",
    "    breaking_index = 0\n",
    "    for i in range (1,len(df_temp)):\n",
    "        if (datetime.datetime.fromisoformat(str(df_temp[\"timestamp\"][i]).split('.')[0].split('+')[0]) < datetime.datetime.fromisoformat(study_information[\"Start_Sit\"][path_list.index(path)])):\n",
    "            breaking_index += 1\n",
    "        else:\n",
    "            break\n",
    "    df_temp.drop(df_temp.index[:breaking_index], inplace=True)\n",
    "\n",
    "    # saving\n",
    "    to_csv(df_temp, os.path.join(\"../../..\",\n",
    "           VAR_ENV[\"dataset.path\"], VAR_ENV[\"dataset.version\"], f\"P{path_list.index(path)+1:02d}\", \"E4\", \"modified_ACC.csv\"))\n"
   ]
  },
  {
   "attachments": {},
   "cell_type": "markdown",
   "metadata": {},
   "source": [
    "### Calculate central moving average"
   ]
  },
  {
   "cell_type": "code",
   "execution_count": 43,
   "metadata": {},
   "outputs": [],
   "source": [
    "for path in path_list:\n",
    "    # dataset manipulation\n",
    "    df_temp = pd.read_csv(os.path.join(path, 'modified_ACC.csv'))\n",
    "\n",
    "    # transform (1/64)g to g\n",
    "    df_temp[\"acc_x\"] = df_temp[\"acc_x\"]/64\n",
    "    df_temp[\"acc_y\"] = df_temp[\"acc_y\"]/64\n",
    "    df_temp[\"acc_z\"] = df_temp[\"acc_z\"]/64\n",
    "\n",
    "    # initialize new columns for central moving averages\n",
    "    df_temp['acc_x_avg'] = 0\n",
    "    df_temp['acc_y_avg'] = 0\n",
    "    df_temp['acc_z_avg'] = 0\n",
    "\n",
    "    # calculate moving windows\n",
    "    for i in range(0, len(df_temp)-moving_window_size):\n",
    "        df_temp.loc[i+moving_window_size//2, 'acc_x_avg'] = df_temp.iloc[i:i+moving_window_size]['acc_x'].sum()/moving_window_size\n",
    "        df_temp.loc[i+moving_window_size//2, 'acc_y_avg'] = df_temp.iloc[i:i+moving_window_size]['acc_y'].sum()/moving_window_size\n",
    "        df_temp.loc[i+moving_window_size//2, 'acc_z_avg'] = df_temp.iloc[i:i+moving_window_size]['acc_z'].sum()/moving_window_size\n",
    "\n",
    "    # drop previous columns\n",
    "    df_temp.drop('acc_x', inplace=True, axis=1)\n",
    "    df_temp.drop('acc_y', inplace=True, axis=1)\n",
    "    df_temp.drop('acc_z', inplace=True, axis=1)\n",
    "\n",
    "    # saving\n",
    "    to_csv(df_temp, os.path.join(\"../../..\",\n",
    "           VAR_ENV[\"dataset.path\"], VAR_ENV[\"dataset.version\"], f\"P{path_list.index(path)+1:02d}\", \"E4\", \"modified_with_CMA_ACC.csv\"))"
   ]
  },
  {
   "attachments": {},
   "cell_type": "markdown",
   "metadata": {},
   "source": [
    "### Remove unnecessary rows"
   ]
  },
  {
   "cell_type": "code",
   "execution_count": 42,
   "metadata": {},
   "outputs": [],
   "source": [
    "for path in path_list[:1]:\n",
    "    df_temp = pd.read_csv(os.path.join(path, 'modified_with_CMA_ACC.csv'))\n",
    "    df_temp.drop(df_temp.index[:moving_window_size//2], inplace=True)\n",
    "    df_temp.drop(df_temp.index[len(df_temp)-moving_window_size//2:], inplace=True)\n",
    "\n",
    "    to_csv(df_temp, os.path.join(\"../../..\",\n",
    "           VAR_ENV[\"dataset.path\"], VAR_ENV[\"dataset.version\"], f\"P{path_list.index(path)+1:02d}\", \"E4\", \"modified_0_rows_removed_ACC.csv\"))"
   ]
  }
 ],
 "metadata": {
  "kernelspec": {
   "display_name": "weee-dataset-l4oCkYpH",
   "language": "python",
   "name": "python3"
  },
  "language_info": {
   "codemirror_mode": {
    "name": "ipython",
    "version": 3
   },
   "file_extension": ".py",
   "mimetype": "text/x-python",
   "name": "python",
   "nbconvert_exporter": "python",
   "pygments_lexer": "ipython3",
   "version": "3.10.6"
  },
  "orig_nbformat": 4,
  "vscode": {
   "interpreter": {
    "hash": "c1367f830a7667d8dfdf66ab5a664543b559253404065f1d8c1c9d2a5c327239"
   }
  }
 },
 "nbformat": 4,
 "nbformat_minor": 2
}
