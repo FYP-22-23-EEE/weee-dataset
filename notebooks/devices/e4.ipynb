{
 "cells": [
  {
   "attachments": {},
   "cell_type": "markdown",
   "metadata": {},
   "source": [
    "### Imports"
   ]
  },
  {
   "cell_type": "code",
   "execution_count": 1,
   "metadata": {},
   "outputs": [],
   "source": [
    "import os\n",
    "import json\n",
    "from envyaml import EnvYAML\n",
    "import pandas as pd"
   ]
  },
  {
   "attachments": {},
   "cell_type": "markdown",
   "metadata": {},
   "source": [
    "### Accessing datasets"
   ]
  },
  {
   "cell_type": "code",
   "execution_count": 2,
   "metadata": {},
   "outputs": [],
   "source": [
    "def read_csv(path):\n",
    "    return pd.read_csv(path)\n",
    "\n",
    "def to_csv(df, path):\n",
    "    df.to_csv(path, index=False)"
   ]
  },
  {
   "attachments": {},
   "cell_type": "markdown",
   "metadata": {},
   "source": [
    "E4 dataset directories"
   ]
  },
  {
   "cell_type": "code",
   "execution_count": 3,
   "metadata": {},
   "outputs": [],
   "source": [
    "VAR_ENV = EnvYAML(\"../../env.yaml\")\n",
    "path_list = [os.path.join(\"../..\", VAR_ENV[\"dataset.path\"], VAR_ENV[\"dataset.version.dev\"], f\"P{i:02d}\", \"E4\") for i in range(1, VAR_ENV[\"dataset.participants\"] + 1)]"
   ]
  },
  {
   "attachments": {},
   "cell_type": "markdown",
   "metadata": {},
   "source": [
    "#### Dataframes"
   ]
  },
  {
   "attachments": {},
   "cell_type": "markdown",
   "metadata": {},
   "source": [
    "The following dataframe lists include dataframes for seperate sensors as follows.\n",
    " - `acc_df_list`: Accelerometer\n",
    " - `bvp_df_list`: Photoplethysmograph\n",
    " - `eda_df_list`: Electrodermal Activity Sensor\n",
    " - `hr_df_list`: Heart Rate                      \n",
    " - `ibi_df_list`: Inter-Beat Interval\n",
    " - `temp_df_list`: Temperature      "
   ]
  },
  {
   "cell_type": "code",
   "execution_count": 4,
   "metadata": {},
   "outputs": [],
   "source": [
    "with open(\"../../config/e4.json\" , \"r\") as f:\n",
    "    config = json.loads(f.read())\n",
    "\n",
    "# dataframes\n",
    "for key in config[\"sensors\"].keys():\n",
    "    file_name = f\"{key.upper()}.csv\"\n",
    "    for path in path_list:\n",
    "        # dataset manipulation\n",
    "        df_temp = pd.read_csv(os.path.join(path, file_name))\n",
    "        initial_time = float(df_temp.columns[0])\n",
    "        frequency = float(df_temp.iloc[0, 0])\n",
    "        df_temp = df_temp.drop([0])\n",
    "        df_temp.columns = [f\"e4_{col}\" for col in config[\"sensors\"][key][\"columns\"]]\n",
    "\n",
    "        # adding timestamps\n",
    "        timestamps = [initial_time+(i/frequency) for i in range(len(df_temp))]\n",
    "        df_temp.insert(0, \"timestamp\", timestamps, True) \n",
    "\n",
    "        # saving\n",
    "        to_csv(df_temp, os.path.join(path, f\"modified_{file_name}\"))"
   ]
  },
  {
   "attachments": {},
   "cell_type": "markdown",
   "metadata": {},
   "source": [
    "Inter-Beat Interval"
   ]
  },
  {
   "cell_type": "code",
   "execution_count": 5,
   "metadata": {},
   "outputs": [],
   "source": [
    "for path in path_list:\n",
    "    # dataset manipulation\n",
    "    df_temp = pd.read_csv(os.path.join(path, \"IBI.csv\"))\n",
    "    initial_time = float(df_temp.columns[0])\n",
    "    df = pd.DataFrame(data=[[initial_time+float(df_temp.iloc[i, 0]), 1] for i in range(len(df_temp))], columns=[\"timestamp\", \"e4_hb\"]) # timestamp, heart beat\n",
    "    \n",
    "    # saving\n",
    "    to_csv(df, os.path.join(path, \"modified_IBI.csv\"))"
   ]
  }
 ],
 "metadata": {
  "kernelspec": {
   "display_name": "weee-dataset-TkA7iVit",
   "language": "python",
   "name": "python3"
  },
  "language_info": {
   "codemirror_mode": {
    "name": "ipython",
    "version": 3
   },
   "file_extension": ".py",
   "mimetype": "text/x-python",
   "name": "python",
   "nbconvert_exporter": "python",
   "pygments_lexer": "ipython3",
   "version": "3.10.6"
  },
  "vscode": {
   "interpreter": {
    "hash": "98ea821317f29dcdfb0efc3aa1587703ccb0c082e696bcb1cdae211a88bb2778"
   }
  }
 },
 "nbformat": 4,
 "nbformat_minor": 2
}
