{
 "cells": [
  {
   "attachments": {},
   "cell_type": "markdown",
   "metadata": {},
   "source": [
    "# Data Preprocessing: Other E4 Sensors"
   ]
  },
  {
   "attachments": {},
   "cell_type": "markdown",
   "metadata": {},
   "source": [
    "In this section we will preprocess the remaining sensor modalities (Temperature) of the E4 device."
   ]
  },
  {
   "attachments": {},
   "cell_type": "markdown",
   "metadata": {},
   "source": [
    "## Imports and Loading Data"
   ]
  },
  {
   "cell_type": "code",
   "execution_count": 45,
   "metadata": {},
   "outputs": [
    {
     "name": "stdout",
     "output_type": "stream",
     "text": [
      "The autoreload extension is already loaded. To reload it, use:\n",
      "  %reload_ext autoreload\n"
     ]
    }
   ],
   "source": [
    "# imports\n",
    "import os\n",
    "from envyaml import EnvYAML\n",
    "\n",
    "import pandas as pd\n",
    "import numpy as np\n",
    "import matplotlib.pyplot as plt\n",
    "import seaborn as sns\n",
    "import datetime\n",
    "\n",
    "import tsfresh.feature_extraction.feature_calculators as fc\n",
    "\n",
    "%matplotlib inline\n",
    "%load_ext autoreload\n",
    "%autoreload 2"
   ]
  },
  {
   "cell_type": "code",
   "execution_count": 46,
   "metadata": {},
   "outputs": [],
   "source": [
    "# environment configuration\n",
    "VAR_ENV = EnvYAML(\"../../../env.yaml\")\n",
    "DATASET_PATH = os.path.join(\"../../..\", VAR_ENV[\"dataset.path\"])\n",
    "DATASET_VERSION = VAR_ENV[\"dataset.version\"]\n",
    "DATASET_OUTPUT_VERSION = VAR_ENV[\"dataset.output\"]\n",
    "PARTICIPANTS = VAR_ENV[\"dataset.participants\"]"
   ]
  },
  {
   "cell_type": "code",
   "execution_count": 47,
   "metadata": {},
   "outputs": [],
   "source": [
    "path_list = [os.path.join(DATASET_PATH, DATASET_VERSION, f\"P{i:02d}\") for i in range(1, PARTICIPANTS + 1)]"
   ]
  },
  {
   "attachments": {},
   "cell_type": "markdown",
   "metadata": {},
   "source": [
    "### Loading E4 Data"
   ]
  },
  {
   "cell_type": "code",
   "execution_count": 48,
   "metadata": {},
   "outputs": [],
   "source": [
    "# loading data\n",
    "temp_e4_dfs = [pd.read_csv(os.path.join(path, \"E4\", \"TEMP.csv\")) for path in path_list]"
   ]
  },
  {
   "cell_type": "markdown",
   "metadata": {},
   "source": [
    "Now let's separate the frequency from the data. Also, we will reshape the dataset such that the minimum value is now 0."
   ]
  },
  {
   "cell_type": "code",
   "execution_count": 49,
   "metadata": {},
   "outputs": [],
   "source": [
    "STARTING_TIMES = [df.columns[0] for df in temp_e4_dfs] # unix starting times\n",
    "FREQUENCY = 4.0 # 4 Hz\n",
    "temp_e4_dfs = list(map(lambda df: pd.DataFrame(data=df.iloc[1:].values, columns=[\"temp\"]), temp_e4_dfs))"
   ]
  },
  {
   "attachments": {},
   "cell_type": "markdown",
   "metadata": {},
   "source": [
    "Now let's add the Timestamp to the data."
   ]
  },
  {
   "cell_type": "code",
   "execution_count": 50,
   "metadata": {},
   "outputs": [],
   "source": [
    "# add timestamp\n",
    "def add_timestamp(df, starting_time):\n",
    "    df[\"timestamp\"] = float(starting_time) + df.index/FREQUENCY\n",
    "    new_cols = [\"timestamp\"] + df.columns.tolist()[:-1]\n",
    "    df = df[new_cols]\n",
    "    return df"
   ]
  },
  {
   "cell_type": "code",
   "execution_count": 51,
   "metadata": {},
   "outputs": [],
   "source": [
    "temp_e4_dfs = [add_timestamp(df, STARTING_TIMES[i]) for i, df in enumerate(temp_e4_dfs)]"
   ]
  },
  {
   "attachments": {},
   "cell_type": "markdown",
   "metadata": {},
   "source": [
    "### Remove data out of range"
   ]
  },
  {
   "cell_type": "code",
   "execution_count": 52,
   "metadata": {},
   "outputs": [],
   "source": [
    "# load Study Information data\n",
    "study_info_df = pd.read_csv(os.path.join(DATASET_PATH, DATASET_VERSION, \"Study_Information.csv\"))"
   ]
  },
  {
   "cell_type": "code",
   "execution_count": 53,
   "metadata": {},
   "outputs": [
    {
     "data": {
      "text/html": [
       "<div>\n",
       "<style scoped>\n",
       "    .dataframe tbody tr th:only-of-type {\n",
       "        vertical-align: middle;\n",
       "    }\n",
       "\n",
       "    .dataframe tbody tr th {\n",
       "        vertical-align: top;\n",
       "    }\n",
       "\n",
       "    .dataframe thead th {\n",
       "        text-align: right;\n",
       "    }\n",
       "</style>\n",
       "<table border=\"1\" class=\"dataframe\">\n",
       "  <thead>\n",
       "    <tr style=\"text-align: right;\">\n",
       "      <th></th>\n",
       "      <th>Participant</th>\n",
       "      <th>Start_Sit</th>\n",
       "      <th>Start_Stand</th>\n",
       "      <th>Start_Cycle1</th>\n",
       "      <th>Start_Cycle2</th>\n",
       "      <th>Start_Run1</th>\n",
       "      <th>Start_Run2</th>\n",
       "      <th>Cycle_Speed1</th>\n",
       "      <th>Cycle_Speed2</th>\n",
       "      <th>Run_Speed1</th>\n",
       "      <th>Run_Speed2</th>\n",
       "      <th>Comments</th>\n",
       "      <th>MET_Sit</th>\n",
       "      <th>MET_Stand</th>\n",
       "      <th>MET_Cycle1</th>\n",
       "      <th>MET_Cycle2</th>\n",
       "      <th>MET_Run1</th>\n",
       "      <th>MET_Run2</th>\n",
       "    </tr>\n",
       "  </thead>\n",
       "  <tbody>\n",
       "    <tr>\n",
       "      <th>0</th>\n",
       "      <td>P01</td>\n",
       "      <td>2021-12-03 16:58:50</td>\n",
       "      <td>2021-12-03 17:03:00</td>\n",
       "      <td>2021-12-03 17:08:00</td>\n",
       "      <td>2021-12-03 17:13:00</td>\n",
       "      <td>2021-12-03 17:18:00</td>\n",
       "      <td>2021-12-03 17:23:00</td>\n",
       "      <td>14</td>\n",
       "      <td>20</td>\n",
       "      <td>4.0</td>\n",
       "      <td>6.0</td>\n",
       "      <td></td>\n",
       "      <td>1</td>\n",
       "      <td>1.2</td>\n",
       "      <td>10</td>\n",
       "      <td>16</td>\n",
       "      <td>4.5</td>\n",
       "      <td>10.0</td>\n",
       "    </tr>\n",
       "    <tr>\n",
       "      <th>1</th>\n",
       "      <td>P02</td>\n",
       "      <td>2021-11-25 17:17:00</td>\n",
       "      <td>2021-11-25 17:23:00</td>\n",
       "      <td>2021-11-25 17:36:10</td>\n",
       "      <td>2021-11-25 17:41:50</td>\n",
       "      <td>2021-11-25 17:46:50</td>\n",
       "      <td>2021-11-25 17:51:00</td>\n",
       "      <td>14</td>\n",
       "      <td>19</td>\n",
       "      <td>5.0</td>\n",
       "      <td>8.5</td>\n",
       "      <td>Muse headband data lost due to connectivity is...</td>\n",
       "      <td>1</td>\n",
       "      <td>1.2</td>\n",
       "      <td>10</td>\n",
       "      <td>12</td>\n",
       "      <td>8.0</td>\n",
       "      <td>14.0</td>\n",
       "    </tr>\n",
       "    <tr>\n",
       "      <th>2</th>\n",
       "      <td>P03</td>\n",
       "      <td>2021-11-26 16:20:20</td>\n",
       "      <td>2021-11-26 16:26:20</td>\n",
       "      <td>2021-11-26 16:53:06</td>\n",
       "      <td>2021-11-26 16:56:18</td>\n",
       "      <td>2021-11-26 17:00:13</td>\n",
       "      <td>2021-11-26 17:04:05</td>\n",
       "      <td>18</td>\n",
       "      <td>22</td>\n",
       "      <td>6.0</td>\n",
       "      <td>7.0</td>\n",
       "      <td>Second part V02 data got losT</td>\n",
       "      <td>1</td>\n",
       "      <td>1.2</td>\n",
       "      <td>12</td>\n",
       "      <td>16</td>\n",
       "      <td>10.0</td>\n",
       "      <td>11.5</td>\n",
       "    </tr>\n",
       "    <tr>\n",
       "      <th>3</th>\n",
       "      <td>P04</td>\n",
       "      <td>2021-11-26 18:15:48</td>\n",
       "      <td>2021-11-26 18:21:56</td>\n",
       "      <td>2021-11-26 18:27:00</td>\n",
       "      <td>2021-11-26 18:32:20</td>\n",
       "      <td>2021-11-26 18:37:10</td>\n",
       "      <td>2021-11-26 18:45:00</td>\n",
       "      <td>15</td>\n",
       "      <td>22</td>\n",
       "      <td>6.0</td>\n",
       "      <td>9.0</td>\n",
       "      <td>Interruption at 18:41</td>\n",
       "      <td>1</td>\n",
       "      <td>1.2</td>\n",
       "      <td>10</td>\n",
       "      <td>16</td>\n",
       "      <td>10.0</td>\n",
       "      <td>15.0</td>\n",
       "    </tr>\n",
       "    <tr>\n",
       "      <th>4</th>\n",
       "      <td>P05</td>\n",
       "      <td>2021-11-29 09:40:47</td>\n",
       "      <td>2021-11-29 09:45:40</td>\n",
       "      <td>2021-11-29 09:51:41</td>\n",
       "      <td>2021-11-29 09:56:41</td>\n",
       "      <td>2021-11-29 10:02:10</td>\n",
       "      <td>2021-11-29 10:06:40</td>\n",
       "      <td>15</td>\n",
       "      <td>22</td>\n",
       "      <td>5.0</td>\n",
       "      <td>7.0</td>\n",
       "      <td></td>\n",
       "      <td>1</td>\n",
       "      <td>1.2</td>\n",
       "      <td>10</td>\n",
       "      <td>16</td>\n",
       "      <td>8.0</td>\n",
       "      <td>11.5</td>\n",
       "    </tr>\n",
       "  </tbody>\n",
       "</table>\n",
       "</div>"
      ],
      "text/plain": [
       "  Participant            Start_Sit          Start_Stand         Start_Cycle1  \\\n",
       "0         P01  2021-12-03 16:58:50  2021-12-03 17:03:00  2021-12-03 17:08:00   \n",
       "1         P02  2021-11-25 17:17:00  2021-11-25 17:23:00  2021-11-25 17:36:10   \n",
       "2         P03  2021-11-26 16:20:20  2021-11-26 16:26:20  2021-11-26 16:53:06   \n",
       "3         P04  2021-11-26 18:15:48  2021-11-26 18:21:56  2021-11-26 18:27:00   \n",
       "4         P05  2021-11-29 09:40:47  2021-11-29 09:45:40  2021-11-29 09:51:41   \n",
       "\n",
       "          Start_Cycle2           Start_Run1           Start_Run2  \\\n",
       "0  2021-12-03 17:13:00  2021-12-03 17:18:00  2021-12-03 17:23:00   \n",
       "1  2021-11-25 17:41:50  2021-11-25 17:46:50  2021-11-25 17:51:00   \n",
       "2  2021-11-26 16:56:18  2021-11-26 17:00:13  2021-11-26 17:04:05   \n",
       "3  2021-11-26 18:32:20  2021-11-26 18:37:10  2021-11-26 18:45:00   \n",
       "4  2021-11-29 09:56:41  2021-11-29 10:02:10  2021-11-29 10:06:40   \n",
       "\n",
       "   Cycle_Speed1  Cycle_Speed2  Run_Speed1  Run_Speed2  \\\n",
       "0            14            20         4.0         6.0   \n",
       "1            14            19         5.0         8.5   \n",
       "2            18            22         6.0         7.0   \n",
       "3            15            22         6.0         9.0   \n",
       "4            15            22         5.0         7.0   \n",
       "\n",
       "                                            Comments  MET_Sit  MET_Stand  \\\n",
       "0                                                           1        1.2   \n",
       "1  Muse headband data lost due to connectivity is...        1        1.2   \n",
       "2                      Second part V02 data got losT        1        1.2   \n",
       "3                              Interruption at 18:41        1        1.2   \n",
       "4                                                           1        1.2   \n",
       "\n",
       "   MET_Cycle1  MET_Cycle2  MET_Run1  MET_Run2  \n",
       "0          10          16       4.5      10.0  \n",
       "1          10          12       8.0      14.0  \n",
       "2          12          16      10.0      11.5  \n",
       "3          10          16      10.0      15.0  \n",
       "4          10          16       8.0      11.5  "
      ]
     },
     "execution_count": 53,
     "metadata": {},
     "output_type": "execute_result"
    }
   ],
   "source": [
    "study_info_df.head()"
   ]
  },
  {
   "cell_type": "code",
   "execution_count": 54,
   "metadata": {},
   "outputs": [],
   "source": [
    "# convert start datetime to unix time\n",
    "def startime_converter(date_time):\n",
    "    date_time = date_time + datetime.timedelta(hours=5, minutes=30)\n",
    "    return datetime.datetime.timestamp(date_time)"
   ]
  },
  {
   "cell_type": "code",
   "execution_count": 55,
   "metadata": {},
   "outputs": [],
   "source": [
    "# load starting time of each participant in unix time\n",
    "starting_time_arr = [startime_converter(datetime.datetime.strptime(starting_time, \"%Y-%m-%d %H:%M:%S\")) for starting_time in study_info_df[\"Start_Sit\"]]"
   ]
  },
  {
   "cell_type": "code",
   "execution_count": 56,
   "metadata": {},
   "outputs": [],
   "source": [
    "# remove rows out of range\n",
    "def remove_out_of_range(df, starting_time):\n",
    "    df = df[df[\"timestamp\"] >= starting_time].reset_index(drop=True)\n",
    "    return df"
   ]
  },
  {
   "cell_type": "code",
   "execution_count": 57,
   "metadata": {},
   "outputs": [],
   "source": [
    "temp_e4_dfs = [remove_out_of_range(df, starting_time_arr[i]) for i, df in enumerate(temp_e4_dfs)]"
   ]
  },
  {
   "cell_type": "code",
   "execution_count": 58,
   "metadata": {},
   "outputs": [
    {
     "data": {
      "text/html": [
       "<div>\n",
       "<style scoped>\n",
       "    .dataframe tbody tr th:only-of-type {\n",
       "        vertical-align: middle;\n",
       "    }\n",
       "\n",
       "    .dataframe tbody tr th {\n",
       "        vertical-align: top;\n",
       "    }\n",
       "\n",
       "    .dataframe thead th {\n",
       "        text-align: right;\n",
       "    }\n",
       "</style>\n",
       "<table border=\"1\" class=\"dataframe\">\n",
       "  <thead>\n",
       "    <tr style=\"text-align: right;\">\n",
       "      <th></th>\n",
       "      <th>timestamp</th>\n",
       "      <th>temp</th>\n",
       "    </tr>\n",
       "  </thead>\n",
       "  <tbody>\n",
       "    <tr>\n",
       "      <th>0</th>\n",
       "      <td>1.638551e+09</td>\n",
       "      <td>32.18</td>\n",
       "    </tr>\n",
       "    <tr>\n",
       "      <th>1</th>\n",
       "      <td>1.638551e+09</td>\n",
       "      <td>32.18</td>\n",
       "    </tr>\n",
       "    <tr>\n",
       "      <th>2</th>\n",
       "      <td>1.638551e+09</td>\n",
       "      <td>32.18</td>\n",
       "    </tr>\n",
       "    <tr>\n",
       "      <th>3</th>\n",
       "      <td>1.638551e+09</td>\n",
       "      <td>32.18</td>\n",
       "    </tr>\n",
       "    <tr>\n",
       "      <th>4</th>\n",
       "      <td>1.638551e+09</td>\n",
       "      <td>32.18</td>\n",
       "    </tr>\n",
       "  </tbody>\n",
       "</table>\n",
       "</div>"
      ],
      "text/plain": [
       "      timestamp   temp\n",
       "0  1.638551e+09  32.18\n",
       "1  1.638551e+09  32.18\n",
       "2  1.638551e+09  32.18\n",
       "3  1.638551e+09  32.18\n",
       "4  1.638551e+09  32.18"
      ]
     },
     "execution_count": 58,
     "metadata": {},
     "output_type": "execute_result"
    }
   ],
   "source": [
    "temp_e4_dfs[0].head()"
   ]
  },
  {
   "attachments": {},
   "cell_type": "markdown",
   "metadata": {},
   "source": [
    "## Saving Data"
   ]
  },
  {
   "attachments": {},
   "cell_type": "markdown",
   "metadata": {},
   "source": [
    "Before saving the data let's add the `session ids` to the data."
   ]
  },
  {
   "attachments": {},
   "cell_type": "markdown",
   "metadata": {},
   "source": [
    "There are **6** session types as follows in the WEEE dataset.\n",
    "- Sit\n",
    "- Stand\n",
    "- Cycle (Speed 1)\n",
    "- Cycle (Speed 2)\n",
    "- Run (Speed 1)\n",
    "- Run (Speed 2)"
   ]
  },
  {
   "attachments": {},
   "cell_type": "markdown",
   "metadata": {},
   "source": [
    "We will encode the activity types as follows.\n",
    "- 0: Sit\n",
    "- 1: Stand\n",
    "- 2: Cycle (Speed 1)\n",
    "- 3: Cycle (Speed 2)\n",
    "- 4: Run (Speed 1)\n",
    "- 5: Run (Speed 2)"
   ]
  },
  {
   "cell_type": "code",
   "execution_count": 59,
   "metadata": {},
   "outputs": [],
   "source": [
    "# start times of each activity\n",
    "start_stand = [startime_converter(datetime.datetime.strptime(starting_time, \"%Y-%m-%d %H:%M:%S\")) for starting_time in study_info_df[\"Start_Stand\"]]\n",
    "start_cycle1 = [startime_converter(datetime.datetime.strptime(starting_time, \"%Y-%m-%d %H:%M:%S\")) for starting_time in study_info_df[\"Start_Cycle1\"]]\n",
    "start_cycle2 = [startime_converter(datetime.datetime.strptime(starting_time, \"%Y-%m-%d %H:%M:%S\")) for starting_time in study_info_df[\"Start_Cycle2\"]]\n",
    "start_run1 = [startime_converter(datetime.datetime.strptime(starting_time, \"%Y-%m-%d %H:%M:%S\")) for starting_time in study_info_df[\"Start_Run1\"]]\n",
    "start_run2 = [startime_converter(datetime.datetime.strptime(starting_time, \"%Y-%m-%d %H:%M:%S\")) for starting_time in study_info_df[\"Start_Run2\"]]"
   ]
  },
  {
   "cell_type": "code",
   "execution_count": 60,
   "metadata": {},
   "outputs": [],
   "source": [
    "# add session id\n",
    "def add_session_id(df, start_stand, start_cycle1, start_cycle2, start_run1, start_run2):\n",
    "    df[\"session_type\"] = 0\n",
    "    df.loc[df[\"timestamp\"] >= start_stand, \"session_type\"] = 1\n",
    "    df.loc[df[\"timestamp\"] >= start_cycle1, \"session_type\"] = 2\n",
    "    df.loc[df[\"timestamp\"] >= start_cycle2, \"session_type\"] = 3\n",
    "    df.loc[df[\"timestamp\"] >= start_run1, \"session_type\"] = 4\n",
    "    df.loc[df[\"timestamp\"] >= start_run2, \"session_type\"] = 5\n",
    "    return df"
   ]
  },
  {
   "cell_type": "code",
   "execution_count": 61,
   "metadata": {},
   "outputs": [],
   "source": [
    "temp_e4_dfs = [add_session_id(df, start_stand[i], start_cycle1[i], start_cycle2[i], start_run1[i], start_run2[i]) for i, df in enumerate(temp_e4_dfs)]"
   ]
  },
  {
   "attachments": {},
   "cell_type": "markdown",
   "metadata": {},
   "source": [
    "Now we will add the user id to each DataFrame."
   ]
  },
  {
   "cell_type": "code",
   "execution_count": 62,
   "metadata": {},
   "outputs": [],
   "source": [
    "# add user id\n",
    "for i, df in enumerate(temp_e4_dfs):\n",
    "    df[\"user_id\"] = i + 1"
   ]
  },
  {
   "cell_type": "code",
   "execution_count": 63,
   "metadata": {},
   "outputs": [
    {
     "data": {
      "text/html": [
       "<div>\n",
       "<style scoped>\n",
       "    .dataframe tbody tr th:only-of-type {\n",
       "        vertical-align: middle;\n",
       "    }\n",
       "\n",
       "    .dataframe tbody tr th {\n",
       "        vertical-align: top;\n",
       "    }\n",
       "\n",
       "    .dataframe thead th {\n",
       "        text-align: right;\n",
       "    }\n",
       "</style>\n",
       "<table border=\"1\" class=\"dataframe\">\n",
       "  <thead>\n",
       "    <tr style=\"text-align: right;\">\n",
       "      <th></th>\n",
       "      <th>timestamp</th>\n",
       "      <th>temp</th>\n",
       "      <th>session_type</th>\n",
       "      <th>user_id</th>\n",
       "    </tr>\n",
       "  </thead>\n",
       "  <tbody>\n",
       "    <tr>\n",
       "      <th>0</th>\n",
       "      <td>1.638551e+09</td>\n",
       "      <td>32.18</td>\n",
       "      <td>0</td>\n",
       "      <td>1</td>\n",
       "    </tr>\n",
       "    <tr>\n",
       "      <th>1</th>\n",
       "      <td>1.638551e+09</td>\n",
       "      <td>32.18</td>\n",
       "      <td>0</td>\n",
       "      <td>1</td>\n",
       "    </tr>\n",
       "    <tr>\n",
       "      <th>2</th>\n",
       "      <td>1.638551e+09</td>\n",
       "      <td>32.18</td>\n",
       "      <td>0</td>\n",
       "      <td>1</td>\n",
       "    </tr>\n",
       "    <tr>\n",
       "      <th>3</th>\n",
       "      <td>1.638551e+09</td>\n",
       "      <td>32.18</td>\n",
       "      <td>0</td>\n",
       "      <td>1</td>\n",
       "    </tr>\n",
       "    <tr>\n",
       "      <th>4</th>\n",
       "      <td>1.638551e+09</td>\n",
       "      <td>32.18</td>\n",
       "      <td>0</td>\n",
       "      <td>1</td>\n",
       "    </tr>\n",
       "  </tbody>\n",
       "</table>\n",
       "</div>"
      ],
      "text/plain": [
       "      timestamp   temp  session_type  user_id\n",
       "0  1.638551e+09  32.18             0        1\n",
       "1  1.638551e+09  32.18             0        1\n",
       "2  1.638551e+09  32.18             0        1\n",
       "3  1.638551e+09  32.18             0        1\n",
       "4  1.638551e+09  32.18             0        1"
      ]
     },
     "execution_count": 63,
     "metadata": {},
     "output_type": "execute_result"
    }
   ],
   "source": [
    "temp_e4_dfs[0].head()"
   ]
  },
  {
   "attachments": {},
   "cell_type": "markdown",
   "metadata": {},
   "source": [
    "## Saving the Data"
   ]
  },
  {
   "attachments": {},
   "cell_type": "markdown",
   "metadata": {},
   "source": [
    "In this step we will combine all user's data with some additional field and save them under 2, 4, 6, 8, 10, 12 (s) windows."
   ]
  },
  {
   "cell_type": "code",
   "execution_count": 64,
   "metadata": {},
   "outputs": [],
   "source": [
    "# updating starting time to match other sensor data\n",
    "def update_starting_time(df, offset):\n",
    "  starting_time = df[\"timestamp\"][0]\n",
    "  return df[df[\"timestamp\"] >= starting_time+offset].reset_index(drop=True)"
   ]
  },
  {
   "cell_type": "code",
   "execution_count": 65,
   "metadata": {},
   "outputs": [],
   "source": [
    "OFFSET = 5 # 5 second offset"
   ]
  },
  {
   "cell_type": "code",
   "execution_count": 66,
   "metadata": {},
   "outputs": [],
   "source": [
    "temp_e4_dfs = [update_starting_time(df, OFFSET) for df in temp_e4_dfs]"
   ]
  },
  {
   "cell_type": "code",
   "execution_count": 77,
   "metadata": {},
   "outputs": [],
   "source": [
    "# timestamp to datetime converter\n",
    "def timestamp_to_datetime(timestamp):\n",
    "    return datetime.datetime.fromtimestamp(timestamp, datetime.timezone.utc).strftime(\"%Y-%m-%d %H:%M:%S\")"
   ]
  },
  {
   "cell_type": "code",
   "execution_count": 78,
   "metadata": {},
   "outputs": [
    {
     "name": "stdout",
     "output_type": "stream",
     "text": [
      "Window Size: 2 seconds\n",
      "\tProcessing User: 01\n",
      "\tProcessing User: 02\n",
      "\tProcessing User: 03\n",
      "\tProcessing User: 04\n",
      "\tProcessing User: 05\n",
      "\tProcessing User: 06\n",
      "\tProcessing User: 07\n",
      "\tProcessing User: 08\n",
      "\tProcessing User: 09\n",
      "\tProcessing User: 10\n",
      "\tProcessing User: 11\n",
      "\tProcessing User: 12\n",
      "\tProcessing User: 13\n",
      "\tProcessing User: 14\n",
      "\tProcessing User: 15\n",
      "\tProcessing User: 16\n",
      "\tProcessing User: 17\n",
      "Window Size: 4 seconds\n",
      "\tProcessing User: 01\n",
      "\tProcessing User: 02\n",
      "\tProcessing User: 03\n",
      "\tProcessing User: 04\n",
      "\tProcessing User: 05\n",
      "\tProcessing User: 06\n",
      "\tProcessing User: 07\n",
      "\tProcessing User: 08\n",
      "\tProcessing User: 09\n",
      "\tProcessing User: 10\n",
      "\tProcessing User: 11\n",
      "\tProcessing User: 12\n",
      "\tProcessing User: 13\n",
      "\tProcessing User: 14\n",
      "\tProcessing User: 15\n",
      "\tProcessing User: 16\n",
      "\tProcessing User: 17\n",
      "Window Size: 6 seconds\n",
      "\tProcessing User: 01\n",
      "\tProcessing User: 02\n",
      "\tProcessing User: 03\n",
      "\tProcessing User: 04\n",
      "\tProcessing User: 05\n",
      "\tProcessing User: 06\n",
      "\tProcessing User: 07\n",
      "\tProcessing User: 08\n",
      "\tProcessing User: 09\n",
      "\tProcessing User: 10\n",
      "\tProcessing User: 11\n",
      "\tProcessing User: 12\n",
      "\tProcessing User: 13\n",
      "\tProcessing User: 14\n",
      "\tProcessing User: 15\n",
      "\tProcessing User: 16\n",
      "\tProcessing User: 17\n",
      "Window Size: 8 seconds\n",
      "\tProcessing User: 01\n",
      "\tProcessing User: 02\n",
      "\tProcessing User: 03\n",
      "\tProcessing User: 04\n",
      "\tProcessing User: 05\n",
      "\tProcessing User: 06\n",
      "\tProcessing User: 07\n",
      "\tProcessing User: 08\n",
      "\tProcessing User: 09\n",
      "\tProcessing User: 10\n",
      "\tProcessing User: 11\n",
      "\tProcessing User: 12\n",
      "\tProcessing User: 13\n",
      "\tProcessing User: 14\n",
      "\tProcessing User: 15\n",
      "\tProcessing User: 16\n",
      "\tProcessing User: 17\n",
      "Window Size: 10 seconds\n",
      "\tProcessing User: 01\n",
      "\tProcessing User: 02\n",
      "\tProcessing User: 03\n",
      "\tProcessing User: 04\n",
      "\tProcessing User: 05\n",
      "\tProcessing User: 06\n",
      "\tProcessing User: 07\n",
      "\tProcessing User: 08\n",
      "\tProcessing User: 09\n",
      "\tProcessing User: 10\n",
      "\tProcessing User: 11\n",
      "\tProcessing User: 12\n",
      "\tProcessing User: 13\n",
      "\tProcessing User: 14\n",
      "\tProcessing User: 15\n",
      "\tProcessing User: 16\n",
      "\tProcessing User: 17\n",
      "Window Size: 12 seconds\n",
      "\tProcessing User: 01\n",
      "\tProcessing User: 02\n",
      "\tProcessing User: 03\n",
      "\tProcessing User: 04\n",
      "\tProcessing User: 05\n",
      "\tProcessing User: 06\n",
      "\tProcessing User: 07\n",
      "\tProcessing User: 08\n",
      "\tProcessing User: 09\n",
      "\tProcessing User: 10\n",
      "\tProcessing User: 11\n",
      "\tProcessing User: 12\n",
      "\tProcessing User: 13\n",
      "\tProcessing User: 14\n",
      "\tProcessing User: 15\n",
      "\tProcessing User: 16\n",
      "\tProcessing User: 17\n"
     ]
    }
   ],
   "source": [
    "# add time windows\n",
    "time_windows = [2, 4, 6, 8, 10, 12]\n",
    "for window in time_windows:\n",
    "    print(f\"Window Size: {window} seconds\")\n",
    "    TIME_WINDOW = int(window * FREQUENCY) # size of the time window to consider\n",
    "    output_df = pd.DataFrame()\n",
    "\n",
    "    for j, df in enumerate(temp_e4_dfs):\n",
    "        print(f\"\\tProcessing User: {j+1:02}\")\n",
    "\n",
    "        # start and end timestamps\n",
    "        df[\"start_timestamp\"] = np.nan\n",
    "        df[\"end_timestamp\"] = np.nan\n",
    "\n",
    "        # crop additional data per session type\n",
    "        cropped_sessions = []\n",
    "        df[\"window_number\"] = 0 # window number field\n",
    "        for i in range(6):\n",
    "            session_length = len(df[df[\"session_type\"] == i])\n",
    "            temp_df = df[df[\"session_type\"] == i].reset_index(drop=True).iloc[:(session_length//TIME_WINDOW)*TIME_WINDOW]\n",
    "            temp_df[\"window_number\"] = temp_df.index//TIME_WINDOW\n",
    "            cropped_sessions.append(temp_df)\n",
    "        df = pd.concat(cropped_sessions, ignore_index=True).reset_index(drop=True)\n",
    "\n",
    "        # for each time window\n",
    "        for i in range(0, len(df)//TIME_WINDOW):\n",
    "            start_timestamp = df[\"timestamp\"].iloc[i*TIME_WINDOW]\n",
    "            end_timestamp = start_timestamp + window\n",
    "\n",
    "            # average columns\n",
    "            int_columns = [\"user_id\", \"session_type\", \"window_number\", \"start_timestamp\", \"end_timestamp\"]\n",
    "            feature_columns = df.columns.tolist()\n",
    "            feature_columns.remove(\"timestamp\")\n",
    "\n",
    "            # add tsfresh features\n",
    "            window_df = df[feature_columns].iloc[i*TIME_WINDOW:(i+1)*TIME_WINDOW].reset_index(drop=True)\n",
    "            modified_df = pd.DataFrame()\n",
    "            for col in feature_columns:\n",
    "                if col in int_columns:\n",
    "                    modified_df[col] = [window_df[col][0]]\n",
    "                else:\n",
    "                    modified_df = pd.concat([modified_df, pd.DataFrame({\n",
    "                        f\"{col}_sum_values_e4_temp\": [fc.sum_values(window_df[col])],\n",
    "                        f\"{col}_median_e4_temp\": [fc.median(window_df[col])],\n",
    "                        f\"{col}_mean_e4_temp\": [fc.mean(window_df[col])],\n",
    "                        f\"{col}_length_e4_temp\": [fc.length(window_df[col])],\n",
    "                        f\"{col}_standard_deviation_e4_temp\": [fc.standard_deviation(window_df[col])],\n",
    "                        f\"{col}_variance_e4_temp\": [fc.variance(window_df[col])],\n",
    "                        f\"{col}_root_mean_square_e4_temp\": [fc.root_mean_square(window_df[col])],\n",
    "                        f\"{col}_maximum_e4_temp\": [fc.maximum(window_df[col])],\n",
    "                        f\"{col}_absolute_maximum_e4_temp\": [fc.absolute_maximum(window_df[col])],\n",
    "                        f\"{col}_minimum_e4_temp\": [fc.minimum(window_df[col])]\n",
    "                    })], axis=1)\n",
    "            \n",
    "            # add start and end timestamps\n",
    "            modified_df[\"start_timestamp\"] = timestamp_to_datetime(start_timestamp)\n",
    "            modified_df[\"end_timestamp\"] = timestamp_to_datetime(end_timestamp)\n",
    "\n",
    "\n",
    "            # add to output df\n",
    "            output_df = pd.concat([output_df, modified_df], ignore_index=True)\n",
    "\n",
    "    # save data\n",
    "    if not os.path.exists(os.path.join(DATASET_PATH, DATASET_OUTPUT_VERSION, str(window), \"E4\")):\n",
    "        os.makedirs(os.path.join(DATASET_PATH, DATASET_OUTPUT_VERSION, str(window), \"E4\"))\n",
    "\n",
    "    output_df.to_csv(os.path.join(DATASET_PATH, DATASET_OUTPUT_VERSION, str(window), \"E4\", \"TEMP.csv\"), index=False)\n",
    "            \n",
    "            "
   ]
  }
 ],
 "metadata": {
  "kernelspec": {
   "display_name": "weee-dataset-TkA7iVit",
   "language": "python",
   "name": "python3"
  },
  "language_info": {
   "codemirror_mode": {
    "name": "ipython",
    "version": 3
   },
   "file_extension": ".py",
   "mimetype": "text/x-python",
   "name": "python",
   "nbconvert_exporter": "python",
   "pygments_lexer": "ipython3",
   "version": "3.10.6"
  },
  "orig_nbformat": 4,
  "vscode": {
   "interpreter": {
    "hash": "98ea821317f29dcdfb0efc3aa1587703ccb0c082e696bcb1cdae211a88bb2778"
   }
  }
 },
 "nbformat": 4,
 "nbformat_minor": 2
}
