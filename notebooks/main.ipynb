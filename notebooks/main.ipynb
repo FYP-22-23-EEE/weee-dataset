{
 "cells": [
  {
   "cell_type": "markdown",
   "metadata": {},
   "source": []
  },
  {
   "cell_type": "code",
   "execution_count": 4,
   "metadata": {},
   "outputs": [],
   "source": [
    "# imports\n",
    "import os\n",
    "from envyaml import EnvYAML\n",
    "import pandas as pd"
   ]
  },
  {
   "cell_type": "code",
   "execution_count": 5,
   "metadata": {},
   "outputs": [
    {
     "name": "stdout",
     "output_type": "stream",
     "text": [
      "data\n"
     ]
    }
   ],
   "source": [
    "# environment variables\n",
    "env = EnvYAML(\"../env.yaml\")"
   ]
  },
  {
   "cell_type": "code",
   "execution_count": 7,
   "metadata": {},
   "outputs": [
    {
     "name": "stdout",
     "output_type": "stream",
     "text": [
      "../data/v1\n"
     ]
    }
   ],
   "source": [
    "dataset_dir = os.path.join(\"../\", env[\"dataset.path\"], env[\"dataset.version\"])"
   ]
  }
 ],
 "metadata": {
  "kernelspec": {
   "display_name": "weee-dataset-TkA7iVit",
   "language": "python",
   "name": "python3"
  },
  "language_info": {
   "codemirror_mode": {
    "name": "ipython",
    "version": 3
   },
   "file_extension": ".py",
   "mimetype": "text/x-python",
   "name": "python",
   "nbconvert_exporter": "python",
   "pygments_lexer": "ipython3",
   "version": "3.10.6"
  },
  "vscode": {
   "interpreter": {
    "hash": "98ea821317f29dcdfb0efc3aa1587703ccb0c082e696bcb1cdae211a88bb2778"
   }
  }
 },
 "nbformat": 4,
 "nbformat_minor": 4
}
